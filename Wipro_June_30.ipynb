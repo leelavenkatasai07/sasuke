{
 "cells": [
  {
   "cell_type": "code",
   "execution_count": null,
   "id": "fdd9f562-3150-4d37-8f37-b181c01da7a5",
   "metadata": {},
   "outputs": [],
   "source": [
    "'''\n",
    "DATA SCIENCE WITH PYTHON\n",
    "\n",
    "PYTHON FUNDAMENTALS\n",
    "DATA STRUCTURES\n",
    "FUNCTIONS/MODULES/PACKAGES\n",
    "COMMAND LINE ARGUMENTS\n",
    "IO OPERATIONS\n",
    "EXCEPTION HANDLING\n",
    "LOGIC BUILDING HOUR PLAN-M1\n",
    "\n",
    "JULY 7th ASSESMENT MILESTONE - 1\n",
    "\n",
    "REGULAR EXPRESSION\n",
    "LIST COMPREHENSION/LAMBDA FUNCTIONS\n",
    "INTRODUCTION TO AI & ML\n",
    "STATISTICS FOR DATA SCIENCE\n",
    "LOGIC BUILDING HOUR PLAN-M2-A\n",
    "\n",
    "JULY 24th ASSESMENT MILESTONE - 2\n",
    "'''"
   ]
  },
  {
   "cell_type": "code",
   "execution_count": null,
   "id": "0a65e22d-58cb-4f61-b420-6d90bf33169f",
   "metadata": {},
   "outputs": [],
   "source": [
    "'''\n",
    "Modules\n",
    "\n",
    "-> math\n",
    "-> random\n",
    "-> datetime\n",
    "-> calendar\n",
    "-> json\n",
    "   - normalize the data / serializing .csv\n",
    "-> sqlite3\n",
    "-> os module\n",
    "-> collections\n",
    "-> regex\n",
    "-> itertools\n",
    "'''"
   ]
  },
  {
   "cell_type": "code",
   "execution_count": null,
   "id": "3597b959-66dd-4f2c-980f-65b242f9fd1f",
   "metadata": {},
   "outputs": [],
   "source": [
    "'''\n",
    "Functions in math module\n",
    "\n",
    "sqrt\n",
    "factorial\n",
    "pow\n",
    "floor\n",
    "ceil\n",
    "pi\n",
    "'''"
   ]
  },
  {
   "cell_type": "code",
   "execution_count": 1,
   "id": "6aff86c9-b1a4-42e6-a97d-1089e93fce8b",
   "metadata": {},
   "outputs": [
    {
     "name": "stdin",
     "output_type": "stream",
     "text": [
      "Enter a number :  5\n"
     ]
    },
    {
     "name": "stdout",
     "output_type": "stream",
     "text": [
      "Square root of 5 is 2.23606797749979\n",
      "Factorial of 5 is 120\n",
      "PI value is 3.141592653589793\n",
      "PI operation is 3.1416\n",
      "PI value is 6.283185307179586\n",
      "PI operation is 6.2832\n"
     ]
    }
   ],
   "source": [
    "import math\n",
    "\n",
    "num = int(input(\"Enter a number : \"))\n",
    "print(f\"Square root of {num} is {math.sqrt(num)}\")\n",
    "print(f\"Factorial of {num} is {math.factorial(num)}\")\n",
    "print(f\"PI value is {math.pi}\")\n",
    "print(f\"PI operation is {(math.pi):.4f}\")\n",
    "print(f\"PI value is {math.pi*2}\")\n",
    "print(f\"PI operation is {(math.pi*2):.4f}\")"
   ]
  },
  {
   "cell_type": "code",
   "execution_count": null,
   "id": "0a8a8ac3-79fe-4be9-8396-2a7534df3abb",
   "metadata": {},
   "outputs": [],
   "source": [
    "'''\n",
    "Functions in random module\n",
    "\n",
    "randint(x,y)\n",
    "choice\n",
    "shuffle\n",
    "random.sample\n",
    "'''"
   ]
  },
  {
   "cell_type": "code",
   "execution_count": 3,
   "id": "4db40f75-7f18-4354-bfeb-1aa947f036b7",
   "metadata": {},
   "outputs": [
    {
     "name": "stdout",
     "output_type": "stream",
     "text": [
      "Random number from 10 to 50 is 27\n",
      "Random number from 0 to 1 is 0.39788600808204655\n"
     ]
    }
   ],
   "source": [
    "# random - generate nuumbers , random choices\n",
    "# randint\n",
    "\n",
    "import random #or 'from random import randint'\n",
    "print(f\"Random number from 10 to 50 is {random.randint(10, 50)}\")\n",
    "\n",
    "# random.random()  dynamically used\n",
    "print(f\"Random number from 0 to 1 is {random.random()}\")"
   ]
  },
  {
   "cell_type": "code",
   "execution_count": 15,
   "id": "d6871ef9-64f9-4fb5-a4bc-31cbf4e9ede1",
   "metadata": {},
   "outputs": [
    {
     "name": "stdout",
     "output_type": "stream",
     "text": [
      "Random number from 1.5 to 5.5 is 2.1978030938208635\n"
     ]
    }
   ],
   "source": [
    "# for floating random number use uniform\n",
    "\n",
    "print(f\"Random number from 1.5 to 5.5 is {random.uniform(1.5, 5.5)}\")"
   ]
  },
  {
   "cell_type": "code",
   "execution_count": 37,
   "id": "b05637d7-3ec7-483e-a8dd-80be08b0667d",
   "metadata": {},
   "outputs": [
    {
     "name": "stdout",
     "output_type": "stream",
     "text": [
      "Random choice from list is guava\n",
      "Random choice from list is ['cherry']\n"
     ]
    }
   ],
   "source": [
    "# choice\n",
    "\n",
    "fruits = ['apple', 'banana', 'cherry', 'elachi', 'guava', 'litchi', 'mango']\n",
    "print(f\"Random choice from list is {random.choice(fruits)}\")\n",
    "print(f\"Random choice from list is {random.choices(fruits)}\")"
   ]
  },
  {
   "cell_type": "code",
   "execution_count": 41,
   "id": "c0a89366-cfb4-4a7d-aeaa-1f252a747c24",
   "metadata": {},
   "outputs": [
    {
     "name": "stdout",
     "output_type": "stream",
     "text": [
      "shuffled list is [6, 8, 4, 10, 2]\n"
     ]
    }
   ],
   "source": [
    "# shuffle\n",
    "\n",
    "nums = [2, 4, 6, 8, 10]\n",
    "random.shuffle(nums)\n",
    "print(f\"shuffled list is {nums}\")"
   ]
  },
  {
   "cell_type": "code",
   "execution_count": 57,
   "id": "aef64314-d9a8-4bb9-aef2-762d7d814529",
   "metadata": {},
   "outputs": [
    {
     "name": "stdout",
     "output_type": "stream",
     "text": [
      "Random number from 10 to 40 is 30\n"
     ]
    }
   ],
   "source": [
    "random.seed(27)\n",
    "print(f\"Random number from 10 to 40 is {random.randint(10, 40)}\")"
   ]
  },
  {
   "cell_type": "code",
   "execution_count": null,
   "id": "214c61f9-605e-4440-881c-7da99c10025b",
   "metadata": {},
   "outputs": [],
   "source": [
    "'''\n",
    "Functions in datetime module\n",
    "\n",
    "datetime.now()\n",
    "datetime.strptime() {epoch time}\n",
    "datetime.strftime()\n",
    "timedelta\n",
    "date.today()\n",
    "datetime.date\n",
    "%I = 0-12\n",
    "%p = AM/PM\n",
    "%H - 0->23.59.59.00000 milli(00) macro(00) nano(0)\n",
    "'''"
   ]
  },
  {
   "cell_type": "code",
   "execution_count": 61,
   "id": "27e0549e-148b-47fb-a43b-21db01f885df",
   "metadata": {},
   "outputs": [
    {
     "name": "stdout",
     "output_type": "stream",
     "text": [
      "Current datetime is 2025-06-30 11:43:41.454443\n"
     ]
    }
   ],
   "source": [
    "# current time & date\n",
    "from datetime import datetime, date, timedelta\n",
    "now = datetime.now()\n",
    "print(f\"Current datetime is {now}\")"
   ]
  },
  {
   "cell_type": "code",
   "execution_count": 63,
   "id": "9fb487db-b6f2-41a2-ad28-f9f00c12e2bd",
   "metadata": {},
   "outputs": [
    {
     "name": "stdout",
     "output_type": "stream",
     "text": [
      "Today's date is 2025-06-30\n"
     ]
    }
   ],
   "source": [
    "# only date\n",
    "print(f\"Today's date is {date.today()}\")"
   ]
  },
  {
   "cell_type": "code",
   "execution_count": 73,
   "id": "554bff0e-92f1-4e8e-ab1b-65191d30ae4f",
   "metadata": {},
   "outputs": [
    {
     "name": "stdout",
     "output_type": "stream",
     "text": [
      "Formatted datetime is 30-06-2025 11:50:50\n",
      "Formatted datetime is 30-06-25 11:50:50\n",
      "Formatted datetime is 06/30/25 11:50:50\n"
     ]
    }
   ],
   "source": [
    "# formatted datetime\n",
    "now = datetime.now()\n",
    "formatted = now.strftime(\"%d-%m-%Y %H:%M:%S\")\n",
    "print(f\"Formatted datetime is {formatted}\")\n",
    "formatted = now.strftime(\"%d-%m-%y %H:%M:%S\")\n",
    "print(f\"Formatted datetime is {formatted}\")\n",
    "formatted = now.strftime(\"%D %H:%M:%S\")\n",
    "print(f\"Formatted datetime is {formatted}\")"
   ]
  },
  {
   "cell_type": "code",
   "execution_count": 79,
   "id": "b1d4e06d-e8d8-4d80-b646-668500357e14",
   "metadata": {},
   "outputs": [
    {
     "name": "stdout",
     "output_type": "stream",
     "text": [
      "Parsed Data is 1947-08-15 00:01:20\n"
     ]
    }
   ],
   "source": [
    "# parsed datetime\n",
    "date_str = \"15-08-1947 00:01:20\"\n",
    "parsed = datetime.strptime(date_str, \"%d-%m-%Y %H:%M:%S\")\n",
    "print(f\"Parsed Data is {parsed}\")"
   ]
  },
  {
   "cell_type": "code",
   "execution_count": 96,
   "id": "8c7c9a57-aa19-4bb7-bc6d-211523958686",
   "metadata": {},
   "outputs": [
    {
     "name": "stdout",
     "output_type": "stream",
     "text": [
      "Tomorrow is 2025-07-01 12:00:25.139817\n",
      "Day after Tomorrow is 2025-07-02 12:00:25.139817\n",
      "Day before yesterday is 2025-06-28 12:00:25.139817\n"
     ]
    }
   ],
   "source": [
    "# timedelta\n",
    "now = datetime.now()\n",
    "yesterday = now+timedelta(days=1)\n",
    "print(f\"Tomorrow is {yesterday}\")\n",
    "yesterday = now+timedelta(days=2)\n",
    "print(f\"Day after Tomorrow is {yesterday}\")\n",
    "yesterday = now-timedelta(days=2)\n",
    "print(f\"Day before yesterday is {yesterday}\")"
   ]
  },
  {
   "cell_type": "code",
   "execution_count": 100,
   "id": "0abb24f2-f01e-4935-aa03-06fe57cb9cb8",
   "metadata": {},
   "outputs": [
    {
     "name": "stdout",
     "output_type": "stream",
     "text": [
      "After 6.5 hours, time is 2025-06-30 18:35:28.061310\n"
     ]
    }
   ],
   "source": [
    "now = datetime.now()\n",
    "ftime = now+timedelta(hours=6, minutes=30, seconds=10)\n",
    "print(f\"After 6.5 hours, time is {ftime}\")"
   ]
  },
  {
   "cell_type": "code",
   "execution_count": 106,
   "id": "ed3d45b1-449e-4c17-851b-fe7d1baea26e",
   "metadata": {},
   "outputs": [
    {
     "name": "stdout",
     "output_type": "stream",
     "text": [
      "30/06/25 06:43:49 PM\n"
     ]
    }
   ],
   "source": [
    "now = datetime.now()\n",
    "ftime = now+timedelta(hours=6, minutes=30, seconds=10)\n",
    "format_12hr = ftime.strftime(\"%d/%m/%y %I:%M:%S %p\")\n",
    "print(format_12hr)"
   ]
  },
  {
   "cell_type": "code",
   "execution_count": null,
   "id": "c4184143-c4aa-4049-99df-32bdef660975",
   "metadata": {},
   "outputs": [],
   "source": []
  }
 ],
 "metadata": {
  "kernelspec": {
   "display_name": "Python 3 (ipykernel)",
   "language": "python",
   "name": "python3"
  },
  "language_info": {
   "codemirror_mode": {
    "name": "ipython",
    "version": 3
   },
   "file_extension": ".py",
   "mimetype": "text/x-python",
   "name": "python",
   "nbconvert_exporter": "python",
   "pygments_lexer": "ipython3",
   "version": "3.12.7"
  }
 },
 "nbformat": 4,
 "nbformat_minor": 5
}
